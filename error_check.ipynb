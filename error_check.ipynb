{
 "cells": [
  {
   "cell_type": "code",
   "execution_count": 9,
   "metadata": {},
   "outputs": [],
   "source": [
    "import argparse\n",
    "import glob\n",
    "import pandas as pd\n",
    "import re\n",
    "import subprocess"
   ]
  },
  {
   "cell_type": "code",
   "execution_count": 2,
   "metadata": {},
   "outputs": [],
   "source": [
    "# \"\"\"Generate the parser for the command line\"\"\"\n",
    "\n",
    "# parser = argparse.ArgumentParser(description='Check for errors in BORIS behavior file scoring')\n",
    "# parser.add_argument('--path', help='Input a string path to the folder BORIS_files_input')\n",
    "\n",
    "# args = parser.parse_args()"
   ]
  },
  {
   "cell_type": "code",
   "execution_count": null,
   "metadata": {},
   "outputs": [],
   "source": [
    "def preprocess_behavior_file(path, reader = \"csv\", frametimes_path = \"\"):\n",
    "    \"\"\"This function preprocesses csv exports from BORIS files and returns a DataFrame object. It also checks \n",
    "    for erroneous BORIS event inputs (i.e. START followed by another START event or STOP followed by another \n",
    "    STOP event)\"\"\"\n",
    "    \n",
    "    if (reader == \"csv\"):\n",
    "        df = pd.read_csv(path)\n",
    "    elif (reader == \"xlsx\"):\n",
    "        df = pd.read_excel(path)\n",
    "\n",
    "    if (frametimes_path):\n",
    "        frametimes = pd.read_csv(frametimes_path)\n",
    "\n",
    "    df.columns = df.iloc[14].to_list()\n",
    "    df = df.drop(df.index[0:15])\n",
    "    df = df.drop([\"Media file path\", \"Total length\", \"FPS\", \"Subject\", \"Behavioral category\", \"Comment\"], axis = 1)\n",
    "    \n",
    "    # Drop point events and any intervention events\n",
    "    df = df[df.Status != \"POINT\"]\n",
    "    df = df[df.Behavior != \"Intervention\"]\n",
    "    df = df[df.Behavior != \"Don't Score\"]\n",
    "    df = df[df.Behavior != \"Disconnected\"]\n",
    "\n",
    "    # Reset the index after dropping events\n",
    "    df = df.reset_index(drop = True)\n",
    "    df.loc[0, \"Duration\"] = \"NaN\"\n",
    "    \n",
    "    # Convert the time column to a float from a string\n",
    "    df[\"Time\"] = df[\"Time\"].apply(lambda x: float(x))\n",
    "    if frametimes_path:\n",
    "        df[\"Frametime\"] = df[\"Time\"].apply(lambda x: frametimes.iloc[round(x * 20), 0] if (round(x * 20) <= frametimes.shape[0] - 1) else frametimes.iloc[frametimes.shape[0] - 1, 0])\n",
    "        start_time = df[\"Frametime\"][0]\n",
    "        df[\"Time\"] = df[\"Frametime\"].apply(lambda x: x - start_time)\n",
    "    \n",
    "    # Generate the Duration column\n",
    "    for i in range(0, len(df)):\n",
    "        if i % 2 != 0:\n",
    "            if (frametimes_path):\n",
    "                df.loc[i, \"Duration\"] = float(df.loc[i, \"Frametime\"]) - float(df.loc[i - 1, \"Frametime\"])\n",
    "            else:\n",
    "                df.loc[i, \"Duration\"] = float(df.loc[i, \"Time\"]) - float(df.loc[i - 1, \"Time\"])\n",
    "        else:\n",
    "            df.loc[i, \"Duration\"] = 0\n",
    "    df[\"Duration\"] = pd.to_numeric(df[\"Duration\"])\n",
    "            \n",
    "    # Check for errors in BORIS event inputs\n",
    "    current = \"START\"\n",
    "    \n",
    "    for i in range(len(df)):\n",
    "        if df.loc[i, \"Status\"] != current:\n",
    "            print(\"Check for repeated status event at row for file: \" + path + \" at \" + str(i))\n",
    "        elif current == \"START\":\n",
    "            current = \"STOP\"\n",
    "        else:\n",
    "            current = \"START\"\n",
    "           \n",
    "    df[\"Location\"] = df[\"Duration\"]\n",
    "    \n",
    "    mapping = {\"Center\": \"Center\", \"Huddle left\": \"Left\", \"Huddle right\": \"Right\", \"Interact left\": \"Left\", \"Interact right\": \\\n",
    "     \"Right\", \"Left\": \"Left\", \"Right\": \"Right\", \"Sniff left\": \"Left\", \"Sniff right\": \"Right\"}\n",
    "    \n",
    "    df[\"Location\"].map(mapping)\n",
    "    \n",
    "    return df"
   ]
  },
  {
   "cell_type": "code",
   "execution_count": null,
   "metadata": {},
   "outputs": [],
   "source": [
    "preprocess_behavior_file()"
   ]
  },
  {
   "cell_type": "code",
   "execution_count": 47,
   "metadata": {},
   "outputs": [],
   "source": [
    "class Animal:\n",
    "    \"\"\"An object representing a single animal that contains information about the animal including a BORIS behavior file.\"\"\"\n",
    "    animal_id: str\n",
    "    behavior_file: str\n",
    "    behavior_dataframe: pd.DataFrame\n",
    "    \n",
    "    def __init__(self, animal_id: str, behavior_file: str = \"\") -> None:\n",
    "        if behavior_file:\n",
    "            self.behavior_dataframe = pd.read_csv(behavior_file)\n",
    "        self.animal_id = animal_id\n",
    "        \n",
    "    def __str__(self) -> str:\n",
    "        return self.animal_id\n",
    "    \n",
    "    def set_behavior_file(self, df: pd.DataFrame) -> None:\n",
    "        self.behavior_file = df\n",
    "        \n",
    "    def get_behavior_file(self, path: str) -> pd.DataFrame:\n",
    "        \"\"\"Takes in a string path to a BORIS csv file and returns a pandas dataframe\"\"\"\n",
    "        return pd.read_csv(path)\n",
    "    \n",
    "    def get_animal_id(self) -> str:\n",
    "        return self.animal_id\n",
    "    \n",
    "class Cohort:\n",
    "    \"\"\"An object representing a cohort of animals that contains information about the cohort including a cohort id, the sex\n",
    "    of the cohort, the genotype of the cohort, and the cohort of animals\"\"\"\n",
    "    cohort = set()\n",
    "    cohort_id: str\n",
    "    sex: str\n",
    "    genotype: str\n",
    "    \n",
    "    def __init__(self, cohort_id, cohort=set()) -> None:\n",
    "        self.cohort_id = cohort_id\n",
    "        if len(cohort) != 0:\n",
    "            self.cohort = cohort\n",
    "            \n",
    "    def __str__(self) -> str:\n",
    "        res = 'The current animals in the cohort are: \\n'\n",
    "        for animal in self.cohort:\n",
    "            res += animal.get_animal_id() + '\\n'\n",
    "        return res\n",
    "        \n",
    "    def add_animal_to_cohort(self, animal: Animal):\n",
    "        self.cohort.add(animal)"
   ]
  },
  {
   "cell_type": "code",
   "execution_count": 48,
   "metadata": {},
   "outputs": [],
   "source": [
    "path = '/Users/josephgmaa/Research/BORIS behavior error checking/BORIS_files_input'\n",
    "path_tests = '/Users/josephgmaa/Research/BORIS behavior error checking/test_BORIS_files'"
   ]
  },
  {
   "cell_type": "code",
   "execution_count": 51,
   "metadata": {},
   "outputs": [],
   "source": [
    "test_cohort = Cohort('separation_reunification')\n",
    "\n",
    "# Generate test cohort of animals from test directory and adding to cohort\n",
    "for file in glob.glob(path_tests + '/*'):\n",
    "    a = re.search('[V][0-9][0-9][0-9][0-9]', file)\n",
    "    animal_id = a.group(0)\n",
    "    animal = Animal(animal_id, file)\n",
    "    test_cohort.add_animal_to_cohort(animal)"
   ]
  },
  {
   "cell_type": "code",
   "execution_count": 53,
   "metadata": {},
   "outputs": [
    {
     "ename": "TypeError",
     "evalue": "'set' object is not subscriptable",
     "output_type": "error",
     "traceback": [
      "\u001b[0;31m---------------------------------------------------------------------------\u001b[0m",
      "\u001b[0;31mTypeError\u001b[0m                                 Traceback (most recent call last)",
      "\u001b[0;32m<ipython-input-53-234a19d2c1bf>\u001b[0m in \u001b[0;36m<module>\u001b[0;34m\u001b[0m\n\u001b[0;32m----> 1\u001b[0;31m \u001b[0mtest_cohort\u001b[0m\u001b[0;34m.\u001b[0m\u001b[0mcohort\u001b[0m\u001b[0;34m[\u001b[0m\u001b[0;36m0\u001b[0m\u001b[0;34m]\u001b[0m\u001b[0;34m\u001b[0m\u001b[0;34m\u001b[0m\u001b[0m\n\u001b[0m",
      "\u001b[0;31mTypeError\u001b[0m: 'set' object is not subscriptable"
     ]
    }
   ],
   "source": [
    "test_cohort.cohort"
   ]
  },
  {
   "cell_type": "code",
   "execution_count": null,
   "metadata": {},
   "outputs": [],
   "source": []
  }
 ],
 "metadata": {
  "kernelspec": {
   "display_name": "Python 3",
   "language": "python",
   "name": "python3"
  },
  "language_info": {
   "codemirror_mode": {
    "name": "ipython",
    "version": 3
   },
   "file_extension": ".py",
   "mimetype": "text/x-python",
   "name": "python",
   "nbconvert_exporter": "python",
   "pygments_lexer": "ipython3",
   "version": "3.8.6"
  }
 },
 "nbformat": 4,
 "nbformat_minor": 4
}
